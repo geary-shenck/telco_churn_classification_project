{
 "cells": [
  {
   "cell_type": "code",
   "execution_count": 1,
   "metadata": {},
   "outputs": [],
   "source": [
    "##imports\n",
    "\n",
    "import pandas as pd\n",
    "import numpy as np\n",
    "from scipy import stats\n",
    "import matplotlib.pyplot as plt\n",
    "import seaborn as sns\n",
    "from pydataset import data\n",
    "import statistics\n",
    "from sklearn.model_selection import train_test_split\n",
    "from sklearn.neighbors import KNeighborsClassifier\n",
    "from sklearn.tree import DecisionTreeClassifier, plot_tree\n",
    "from sklearn.metrics import classification_report\n",
    "from sklearn.metrics import confusion_matrix\n",
    "from sklearn.linear_model import LogisticRegression\n",
    "import sklearn\n",
    "import prepare\n",
    "import acquire\n",
    "\n",
    "import warnings\n",
    "warnings.filterwarnings(\"ignore\")\n",
    "\n",
    "from sklearn.ensemble import RandomForestClassifier\n",
    "\n",
    "pd.set_option('display.max_rows', 500)\n"
   ]
  },
  {
   "cell_type": "markdown",
   "metadata": {},
   "source": [
    "First I acquire and do basic prep work on the data for processing"
   ]
  },
  {
   "cell_type": "code",
   "execution_count": 2,
   "metadata": {},
   "outputs": [
    {
     "name": "stdout",
     "output_type": "stream",
     "text": [
      "<class 'pandas.core.frame.DataFrame'>\n",
      "RangeIndex: 7043 entries, 0 to 7042\n",
      "Data columns (total 32 columns):\n",
      " #   Column                                 Non-Null Count  Dtype  \n",
      "---  ------                                 --------------  -----  \n",
      " 0   customer_id                            7043 non-null   object \n",
      " 1   senior_citizen                         7043 non-null   int64  \n",
      " 2   tenure                                 7043 non-null   int64  \n",
      " 3   monthly_charges                        7043 non-null   float64\n",
      " 4   total_charges                          7043 non-null   float64\n",
      " 5   gender_encoded                         7043 non-null   int64  \n",
      " 6   partner_encoded                        7043 non-null   int64  \n",
      " 7   dependents_encoded                     7043 non-null   int64  \n",
      " 8   phone_service_encoded                  7043 non-null   int64  \n",
      " 9   paperless_billing_encoded              7043 non-null   int64  \n",
      " 10  churn_encoded                          7043 non-null   int64  \n",
      " 11  multiple_lines_No phone service        7043 non-null   uint8  \n",
      " 12  multiple_lines_Yes                     7043 non-null   uint8  \n",
      " 13  online_security_No internet service    7043 non-null   uint8  \n",
      " 14  online_security_Yes                    7043 non-null   uint8  \n",
      " 15  online_backup_No internet service      7043 non-null   uint8  \n",
      " 16  online_backup_Yes                      7043 non-null   uint8  \n",
      " 17  device_protection_No internet service  7043 non-null   uint8  \n",
      " 18  device_protection_Yes                  7043 non-null   uint8  \n",
      " 19  tech_support_No internet service       7043 non-null   uint8  \n",
      " 20  tech_support_Yes                       7043 non-null   uint8  \n",
      " 21  streaming_tv_No internet service       7043 non-null   uint8  \n",
      " 22  streaming_tv_Yes                       7043 non-null   uint8  \n",
      " 23  streaming_movies_No internet service   7043 non-null   uint8  \n",
      " 24  streaming_movies_Yes                   7043 non-null   uint8  \n",
      " 25  contract_type_One year                 7043 non-null   uint8  \n",
      " 26  contract_type_Two year                 7043 non-null   uint8  \n",
      " 27  internet_service_type_Fiber optic      7043 non-null   uint8  \n",
      " 28  internet_service_type_None             7043 non-null   uint8  \n",
      " 29  payment_type_Credit card (automatic)   7043 non-null   uint8  \n",
      " 30  payment_type_Electronic check          7043 non-null   uint8  \n",
      " 31  payment_type_Mailed check              7043 non-null   uint8  \n",
      "dtypes: float64(2), int64(8), object(1), uint8(21)\n",
      "memory usage: 749.8+ KB\n"
     ]
    },
    {
     "data": {
      "text/plain": [
       "(None,\n",
       "        senior_citizen       tenure  monthly_charges  total_charges  \\\n",
       " count     7043.000000  7043.000000      7043.000000    7043.000000   \n",
       " mean         0.162147    32.371149        64.761692    2279.734304   \n",
       " std          0.368612    24.559481        30.090047    2266.794470   \n",
       " min          0.000000     0.000000        18.250000       0.000000   \n",
       " 25%          0.000000     9.000000        35.500000     398.550000   \n",
       " 50%          0.000000    29.000000        70.350000    1394.550000   \n",
       " 75%          0.000000    55.000000        89.850000    3786.600000   \n",
       " max          1.000000    72.000000       118.750000    8684.800000   \n",
       " \n",
       "        gender_encoded  partner_encoded  dependents_encoded  \\\n",
       " count     7043.000000      7043.000000         7043.000000   \n",
       " mean         0.495244         0.483033            0.299588   \n",
       " std          0.500013         0.499748            0.458110   \n",
       " min          0.000000         0.000000            0.000000   \n",
       " 25%          0.000000         0.000000            0.000000   \n",
       " 50%          0.000000         0.000000            0.000000   \n",
       " 75%          1.000000         1.000000            1.000000   \n",
       " max          1.000000         1.000000            1.000000   \n",
       " \n",
       "        phone_service_encoded  paperless_billing_encoded  churn_encoded  ...  \\\n",
       " count            7043.000000                7043.000000    7043.000000  ...   \n",
       " mean                0.903166                   0.592219       0.265370  ...   \n",
       " std                 0.295752                   0.491457       0.441561  ...   \n",
       " min                 0.000000                   0.000000       0.000000  ...   \n",
       " 25%                 1.000000                   0.000000       0.000000  ...   \n",
       " 50%                 1.000000                   1.000000       0.000000  ...   \n",
       " 75%                 1.000000                   1.000000       1.000000  ...   \n",
       " max                 1.000000                   1.000000       1.000000  ...   \n",
       " \n",
       "        streaming_tv_Yes  streaming_movies_No internet service  \\\n",
       " count       7043.000000                           7043.000000   \n",
       " mean           0.384353                              0.216669   \n",
       " std            0.486477                              0.412004   \n",
       " min            0.000000                              0.000000   \n",
       " 25%            0.000000                              0.000000   \n",
       " 50%            0.000000                              0.000000   \n",
       " 75%            1.000000                              0.000000   \n",
       " max            1.000000                              1.000000   \n",
       " \n",
       "        streaming_movies_Yes  contract_type_One year  contract_type_Two year  \\\n",
       " count           7043.000000             7043.000000             7043.000000   \n",
       " mean               0.387903                0.209144                0.240664   \n",
       " std                0.487307                0.406726                0.427517   \n",
       " min                0.000000                0.000000                0.000000   \n",
       " 25%                0.000000                0.000000                0.000000   \n",
       " 50%                0.000000                0.000000                0.000000   \n",
       " 75%                1.000000                0.000000                0.000000   \n",
       " max                1.000000                1.000000                1.000000   \n",
       " \n",
       "        internet_service_type_Fiber optic  internet_service_type_None  \\\n",
       " count                        7043.000000                 7043.000000   \n",
       " mean                            0.439585                    0.216669   \n",
       " std                             0.496372                    0.412004   \n",
       " min                             0.000000                    0.000000   \n",
       " 25%                             0.000000                    0.000000   \n",
       " 50%                             0.000000                    0.000000   \n",
       " 75%                             1.000000                    0.000000   \n",
       " max                             1.000000                    1.000000   \n",
       " \n",
       "        payment_type_Credit card (automatic)  payment_type_Electronic check  \\\n",
       " count                           7043.000000                    7043.000000   \n",
       " mean                               0.216101                       0.335794   \n",
       " std                                0.411613                       0.472301   \n",
       " min                                0.000000                       0.000000   \n",
       " 25%                                0.000000                       0.000000   \n",
       " 50%                                0.000000                       0.000000   \n",
       " 75%                                0.000000                       1.000000   \n",
       " max                                1.000000                       1.000000   \n",
       " \n",
       "        payment_type_Mailed check  \n",
       " count                7043.000000  \n",
       " mean                    0.228880  \n",
       " std                     0.420141  \n",
       " min                     0.000000  \n",
       " 25%                     0.000000  \n",
       " 50%                     0.000000  \n",
       " 75%                     0.000000  \n",
       " max                     1.000000  \n",
       " \n",
       " [8 rows x 31 columns],\n",
       " customer_id  senior_citizen  tenure  monthly_charges  total_charges  gender_encoded  partner_encoded  dependents_encoded  phone_service_encoded  paperless_billing_encoded  churn_encoded  multiple_lines_No phone service  multiple_lines_Yes  online_security_No internet service  online_security_Yes  online_backup_No internet service  online_backup_Yes  device_protection_No internet service  device_protection_Yes  tech_support_No internet service  tech_support_Yes  streaming_tv_No internet service  streaming_tv_Yes  streaming_movies_No internet service  streaming_movies_Yes  contract_type_One year  contract_type_Two year  internet_service_type_Fiber optic  internet_service_type_None  payment_type_Credit card (automatic)  payment_type_Electronic check  payment_type_Mailed check\n",
       " 0002-ORFBO   0               9       65.60            593.30         1               1                1                   1                      1                          0              0                                0                   0                                    0                    0                                  1                  0                                      0                      0                                 1                 0                                 1                 0                                     0                     1                       0                       0                                  0                           0                                     0                              1                            1\n",
       " 6616-AALSR   0               65      104.30           6725.30        1               1                1                   1                      1                          0              0                                1                   0                                    1                    0                                  0                  0                                      1                      0                                 0                 0                                 1                 0                                     1                     0                       1                       1                                  0                           1                                     0                              0                            1\n",
       " 6625-UTXEW   0               12      51.25            612.10         1               1                0                   1                      1                          0              0                                0                   0                                    0                    0                                  1                  0                                      0                      0                                 0                 0                                 0                 0                                     0                     0                       0                       0                                  0                           0                                     1                              0                            1\n",
       " 6625-IUTTT   0               67      65.55            4361.55        0               0                0                   1                      0                          0              0                                0                   0                                    1                    0                                  0                  0                                      1                      0                                 0                 0                                 0                 0                                     1                     0                       1                       0                                  0                           0                                     0                              0                            1\n",
       " 6625-FLENO   0               58      20.75            1185.95        0               1                0                   1                      0                          0              0                                0                   1                                    0                    1                                  0                  1                                      0                      1                                 0                 1                                 0                 1                                     0                     0                       1                       0                                  1                           0                                     0                              1                            1\n",
       "                                                                                                                                                                                                                                                                                                                                                                                                                                                                                                                                                                                                                                                                                                                                                                                                                   ..\n",
       " 3352-RICWQ   0               9       19.75            210.65         1               1                1                   1                      0                          0              0                                0                   1                                    0                    1                                  0                  1                                      0                      1                                 0                 1                                 0                 1                                     0                     0                       1                       0                                  1                           0                                     0                              1                            1\n",
       " 3352-ALMCK   0               40      102.65           4108.15        0               0                0                   1                      1                          0              0                                1                   0                                    0                    0                                  1                  0                                      1                      0                                 0                 0                                 1                 0                                     1                     0                       0                       1                                  0                           0                                     0                              1                            1\n",
       " 3351-NQLDI   0               67      94.35            6341.45        1               1                1                   1                      1                          1              0                                1                   0                                    1                    0                                  0                  0                                      0                      0                                 1                 0                                 0                 0                                     1                     1                       0                       1                                  0                           1                                     0                              0                            1\n",
       " 3351-NGXYI   1               16      54.10            889.00         1               0                0                   1                      1                          0              0                                1                   0                                    1                    0                                  0                  0                                      0                      0                                 0                 0                                 0                 0                                     0                     0                       0                       0                                  0                           0                                     1                              0                            1\n",
       " 9995-HOTOH   0               63      59.00            3707.60        0               1                1                   0                      0                          0              1                                0                   0                                    1                    0                                  1                  0                                      1                      0                                 0                 0                                 1                 0                                     1                     0                       1                       0                                  0                           0                                     1                              0                            1\n",
       " Length: 7043, dtype: int64)"
      ]
     },
     "execution_count": 2,
     "metadata": {},
     "output_type": "execute_result"
    }
   ],
   "source": [
    "# calls prepare.py and utilized the prep_telco() function to return a prepared\n",
    "# dataframe for telco, this automatically calls the acquire.py for acquisition\n",
    "# of the csv and cleans/encodes the data for ease of processing/analysis\n",
    "# then i have it run info and describe to manual review the information for any\n",
    "# unusual data types or unexpected entries\n",
    "prepare_df = prepare.prep_telco()\n",
    "prepare_df.info(),prepare_df.describe(),prepare_df.value_counts()"
   ]
  },
  {
   "cell_type": "markdown",
   "metadata": {},
   "source": [
    "i split my data to prevent contamination of analysis (validate/test)\n",
    "then i find my baseline for referencing when i do modeling later"
   ]
  },
  {
   "cell_type": "code",
   "execution_count": 3,
   "metadata": {},
   "outputs": [
    {
     "name": "stdout",
     "output_type": "stream",
     "text": [
      "prepared df shape: (7043, 31)\n",
      "train shape: (4225, 31)\n",
      "validate shape: (1409, 31)\n",
      "test shape: (1409, 31)\n"
     ]
    }
   ],
   "source": [
    "# sets my feature i want to predict/focus on\n",
    "# splits my data twice with stratification on prediction feature\n",
    "# returns the shapes for quick review\n",
    "\n",
    "prediction_col = \"churn_encoded\"\n",
    "\n",
    "train_df,test_df,validate_df = prepare.split_function(prepare_df.drop(columns=[\"customer_id\"]),prediction_col)\n"
   ]
  },
  {
   "cell_type": "code",
   "execution_count": 4,
   "metadata": {},
   "outputs": [
    {
     "name": "stdout",
     "output_type": "stream",
     "text": [
      "['monthly_charges', 'total_charges'] ['senior_citizen', 'tenure', 'gender_encoded', 'partner_encoded', 'dependents_encoded', 'phone_service_encoded', 'paperless_billing_encoded', 'churn_encoded', 'multiple_lines_No phone service', 'multiple_lines_Yes', 'online_security_No internet service', 'online_security_Yes', 'online_backup_No internet service', 'online_backup_Yes', 'device_protection_No internet service', 'device_protection_Yes', 'tech_support_No internet service', 'tech_support_Yes', 'streaming_tv_No internet service', 'streaming_tv_Yes', 'streaming_movies_No internet service', 'streaming_movies_Yes', 'contract_type_One year', 'contract_type_Two year', 'internet_service_type_Fiber optic', 'internet_service_type_None', 'payment_type_Credit card (automatic)', 'payment_type_Electronic check', 'payment_type_Mailed check']\n"
     ]
    }
   ],
   "source": [
    "##seperation of  data into easy referencing dataframes and lists (churned and unchurned. numbers and categories)\n",
    "\n",
    "train_churned_df = train_df[train_df[\"churn_encoded\"] == 1]\n",
    "train_unchurned_df = train_df[train_df[\"churn_encoded\"] == 0]\n",
    "\n",
    "num_vars = []\n",
    "cat_vars = []\n",
    "for column in train_df:\n",
    "    col_type =  train_df[column].dtype\n",
    "    if col_type == \"object\":\n",
    "        cat_vars.append(column)\n",
    "    if col_type in [\"int64\", \"uint8\"] and ((train_df[column].max() + 1) / train_df[column].nunique())  == 1 :\n",
    "        cat_vars.append(column)\n",
    "    if col_type in [\"float64\", \"int64\", \"uint8\"] and \\\n",
    "        ((train_df[column].max() + 1) / train_df[column].nunique()) != 1 :\n",
    "        num_vars.append(column)\n",
    "print(num_vars,cat_vars)\n",
    "\n"
   ]
  },
  {
   "cell_type": "markdown",
   "metadata": {},
   "source": [
    "let's ask some questions of the data\n",
    "\n",
    "\n",
    "> - **Hypothesis 1 -**\n",
    "> - alpha = .05\n",
    "> - $H_0$: Is churn independant of payment type. $\\mu_{churn}$ independent $\\mu_{payment type}$ (pval > alpha).  \n",
    "> - $H_a$: Rejection of Null $\\mu_{virginica}$ ~~independent~~  $\\mu_{versicolor}$ (pval <= alpha). \n"
   ]
  },
  {
   "cell_type": "code",
   "execution_count": 5,
   "metadata": {},
   "outputs": [
    {
     "name": "stdout",
     "output_type": "stream",
     "text": [
      "Observed\n",
      "[[789 774 780 761]\n",
      " [144 145 643 189]]\n",
      "---\n",
      "Expected\n",
      "[[ 685.45136095  675.16591716 1045.44189349  697.9408284 ]\n",
      " [ 247.54863905  243.83408284  377.55810651  252.0591716 ]]\n",
      "---\n",
      "chi^2 = 388.9740, p = 0.00000, degf = 3\n",
      "due to p = 0.00000 < α = 0.05 we reject our null hypothesis\n",
      "(  c̶h̶u̶r̶n̶_̶e̶n̶c̶o̶d̶e̶d̶ ̶i̶s̶ ̶i̶n̶d̶e̶p̶e̶n̶d̶a̶n̶t̶ ̶o̶f̶ ̶p̶a̶y̶m̶e̶n̶t̶s̶ )\n"
     ]
    }
   ],
   "source": [
    "# creates a column of the payments for easy analysis, runs a crosstab to put into a chi2 independancy test.\n",
    "# produces observed and expected values\n",
    "# returns the chi2 and pval for the whole set\n",
    "\n",
    "train_df[\"payments\"] = np.where(train_df['payment_type_Credit card (automatic)'] == 1, \"Credit_card\", \\\n",
    "                                np.where(train_df['payment_type_Electronic check'] == 1, \"Electronic_check\", \\\n",
    "                                    np.where(train_df['payment_type_Mailed check'] == 1, \"Mailed_check\",\"Bank_Transfer\")))\n",
    "\n",
    "df1 = pd.crosstab(train_df.churn_encoded,train_df[\"payments\"])\n",
    "alpha = .05\n",
    "chi2, p, degf, expected = stats.chi2_contingency(df1)\n",
    "H0 = (f\"{df1.index.name} is independant of {df1.columns.name}\")\n",
    "H1 = (f\"{df1.index.name} is not independant of {df1.columns.name}\")\n",
    "print('Observed')\n",
    "print(df1.values)\n",
    "print('---\\nExpected')\n",
    "print(expected)\n",
    "print(f'---\\nchi^2 = {chi2:.4f}, p = {p:.5f}, degf = {degf}')\n",
    "if p>alpha:\n",
    "    print(f\"due to p={p:.5f} > α={alpha} we fail to reject our null hypothesis\\n({H0})\")\n",
    "else:\n",
    "    print(f\"due to p = {p:.5f} < α = {alpha} we reject our null hypothesis\\n( \", '\\u0336'.join(H0) + '\\u0336' , \")\")\n"
   ]
  },
  {
   "cell_type": "code",
   "execution_count": 6,
   "metadata": {},
   "outputs": [
    {
     "data": {
      "image/png": "[encoded data removed]",
      "text/plain": [
       "<Figure size 864x432 with 1 Axes>"
      ]
     },
     "metadata": {
      "needs_background": "light"
     },
     "output_type": "display_data"
    }
   ],
   "source": [
    "#creates a melt dataframe on payments for churn and charts it\n",
    "melt_list = [\"payments\",\"churn_encoded\"]\n",
    "melt = train_df[melt_list]\n",
    "melt = melt.melt(id_vars=\"churn_encoded\")\n",
    "plt.figure(figsize=(12,6))\n",
    "sns.barplot(x=melt.value, y=melt.churn_encoded,)\n",
    "plt.title(\"payment_type for churn\")\n",
    "plt.axhline(train_df.churn_encoded.mean(), label=\"Mean line\",color=\"black\")\n",
    "plt.show()"
   ]
  },
  {
   "cell_type": "markdown",
   "metadata": {},
   "source": [
    "> - Outcome: All payments failed in the Chi^2 statistical test to pass the null hypothesis of being independant of churn. this would indicate that there's a relation "
   ]
  },
  {
   "cell_type": "markdown",
   "metadata": {},
   "source": [
    "> - **Hypothesis 2 -** \n",
    "> - alpha = .025\n",
    "> - $H_0$: Is monthly payment greater for those who churned and than those who have not churn $\\mu_{monthly payment (churned)} <= \\mu_{monthly payment (retained)}$.  \n",
    "> - $H_a$: Rejection of null $\\mu_{monthly payment (churned)} > \\mu_{monthly payment (retained)}$. \n",
    "> - Outcome: outcome."
   ]
  },
  {
   "cell_type": "code",
   "execution_count": 7,
   "metadata": {},
   "outputs": [
    {
     "name": "stdout",
     "output_type": "stream",
     "text": [
      "we can reject that there are equal variance in these two groups with 1.0 certainty Flag=F stat=191.12029, p=0.00000\n",
      "We reject the null Hypothesis ( m̶o̶n̶t̶h̶l̶y̶ ̶p̶a̶y̶m̶e̶n̶t̶s̶ ̶o̶f̶ ̶c̶h̶u̶r̶n̶e̶d̶ ̶i̶s̶ ̶l̶e̶s̶s̶ ̶t̶h̶a̶n̶ ̶o̶r̶ ̶e̶q̶u̶a̶l̶ ̶t̶o̶ ̶m̶o̶n̶t̶h̶l̶y̶ ̶p̶a̶y̶m̶e̶n̶t̶s̶ ̶o̶f̶ ̶u̶n̶c̶h̶u̶r̶n̶e̶d̶ ) t=13.79648, p=0.00000\n"
     ]
    },
    {
     "data": {
      "image/png": "[encoded data removed]",
      "text/plain": [
       "<Figure size 864x432 with 1 Axes>"
      ]
     },
     "metadata": {
      "needs_background": "light"
     },
     "output_type": "display_data"
    }
   ],
   "source": [
    "## does a levene test for comparing variance, creates a boolean flag that is passed into the ttest for\n",
    "## comparing the churned monthly charge and the unchurned monthly charge\n",
    "## then plots the graphs for a visual\n",
    "\n",
    "\n",
    "H0 = \"monthly payments of churned is less than or equal to monthly payments of unchurned\"\n",
    "Ha = \"monthly payments of churned is greater than monthly payments of unchurned\"\n",
    "alpha = .025\n",
    "\n",
    "#compare variances to know how to run the test\n",
    "stat,pval = stats.levene(train_churned_df.monthly_charges,train_unchurned_df.monthly_charges)\n",
    "stat,pval\n",
    "if pval > 0.05:\n",
    "    equal_var_flag = True\n",
    "    print(f\"we can accept that there are equal variance in these two groups with {round(pval,2)} certainty Flag=T\",'stat=%.5f, p=%.5f' % (stat,pval))\n",
    "else:\n",
    "    equal_var_flag = False\n",
    "    print(f\"we can reject that there are equal variance in these two groups with {round((1-pval),2)} certainty Flag=F\",'stat=%.5f, p=%.5f' % (stat,pval))\n",
    "\n",
    "\n",
    "t, p = stats.ttest_ind( train_churned_df.monthly_charges, train_unchurned_df.monthly_charges, equal_var = equal_var_flag )\n",
    "\n",
    "if p > alpha or t < 0: #directionality, or if t is negative\n",
    "    print(\"We fail to reject the null hypothesis (\",(H0) , \")\",'t=%.5f, p=%.5f' % (t,p))\n",
    "else:\n",
    "     print(\"We reject the null Hypothesis (\", '\\u0336'.join(H0) + '\\u0336' ,\")\",'t=%.5f, p=%.5f' % (t,p))\n",
    "\n",
    "plt.figure(figsize=(12,6))\n",
    "plt.title(\"What's the relationship of churn and monthly charges?\")\n",
    "sns.distplot(train_churned_df.monthly_charges,label=\"churned\")\n",
    "sns.distplot(train_unchurned_df.monthly_charges,label=\"unchurned\")\n",
    "plt.axvline(train_churned_df.monthly_charges.mean(),color=\"blue\",ls=\":\",label=\"mean for churned\")\n",
    "plt.axvline(train_unchurned_df.monthly_charges.mean(),color=\"orange\",ls=\":\",label=\"mean for unchurned\")\n",
    "plt.legend()\n",
    "plt.show()\n"
   ]
  },
  {
   "cell_type": "markdown",
   "metadata": {},
   "source": [
    "> - Outcome: we do find enough evidence to statistically reject the null hypothesis ~~(monthly payments for those who churn are less than or equal to those who have not churned)~~"
   ]
  },
  {
   "cell_type": "markdown",
   "metadata": {},
   "source": [
    "> - **Question 3 -** \n",
    "> - Which service provided has the highest churn?"
   ]
  },
  {
   "cell_type": "code",
   "execution_count": 8,
   "metadata": {},
   "outputs": [
    {
     "data": {
      "image/png": "[encoded data removed]",
      "text/plain": [
       "<Figure size 864x432 with 1 Axes>"
      ]
     },
     "metadata": {
      "needs_background": "light"
     },
     "output_type": "display_data"
    },
    {
     "name": "stdout",
     "output_type": "stream",
     "text": [
      "variable\n",
      "device_protection_Yes    0.227242\n",
      "online_backup_Yes        0.210953\n",
      "online_security_Yes      0.153409\n",
      "streaming_movies_Yes     0.299820\n",
      "streaming_tv_Yes         0.296319\n",
      "tech_support_Yes         0.159444\n",
      "Name: churn_encoded, dtype: float64\n",
      "-----------------\n",
      "variable\n",
      "streaming_movies_Yes    0.29982\n",
      "Name: churn_encoded, dtype: float64\n"
     ]
    }
   ],
   "source": [
    "## creates a melt based on services provided and produced a chart based on the mean of churn for each category in services\n",
    "\n",
    "service_list =['online_security_Yes', 'online_backup_Yes',\n",
    "       'device_protection_Yes', 'tech_support_Yes', 'streaming_tv_Yes',\n",
    "       'streaming_movies_Yes',\"churn_encoded\"]\n",
    "melt = train_df[service_list]\n",
    "melt = melt.melt(id_vars=\"churn_encoded\")\n",
    "melt = melt[melt.value == 1 ]\n",
    "plt.figure(figsize=(12,6))\n",
    "sns.barplot(x=melt.variable, y=melt.churn_encoded,)\n",
    "plt.title(\"service for churn\")\n",
    "plt.axhline(train_df.churn_encoded.mean(), label=\"Mean line\",color=\"black\")\n",
    "plt.legend()\n",
    "plt.show()\n",
    "print(melt.groupby(\"variable\")[\"churn_encoded\"].mean())\n",
    "print(\"-----------------\")\n",
    "print(melt.groupby(\"variable\")[\"churn_encoded\"].mean().nlargest(1))"
   ]
  },
  {
   "cell_type": "markdown",
   "metadata": {},
   "source": [
    "> - Outcome: Here we can see that those who subscribe to streaming movies (and TV) are services subscribed to the most by those who churn."
   ]
  },
  {
   "cell_type": "markdown",
   "metadata": {},
   "source": [
    "\n",
    "> - **Question 4 -** \n",
    "> - When (in terms of tenure) are people most likely to churn?"
   ]
  },
  {
   "cell_type": "code",
   "execution_count": 9,
   "metadata": {},
   "outputs": [
    {
     "data": {
      "image/png": "[encoded data removed]",
      "text/plain": [
       "<Figure size 432x288 with 2 Axes>"
      ]
     },
     "metadata": {
      "needs_background": "light"
     },
     "output_type": "display_data"
    }
   ],
   "source": [
    "## creates two subplots that are of the churn ratio over time. the first is all of the time period provided in the data\n",
    "## the second is \"zoomed in\" on the first 2 years (25 periods)\n",
    "\n",
    "fig, (ax1, ax2) = plt.subplots(ncols=2, sharey=True)\n",
    "\n",
    "sns.lineplot(x=train_df[\"tenure\"], y=train_df[prediction_col], data=train_df, ax=ax1)\n",
    "plt.title(f\"tenure and churn rate\")\n",
    "\n",
    "second_plt =sns.lineplot(x=train_df[\"tenure\"], y=train_df[prediction_col], data=train_df, ax=ax2)\n",
    "plt.title(\"tenure and churn rate\")\n",
    "second_plt.set_xlim(0,24)\n",
    "plt.xticks([0,1,2,3,4,5,10,15,20,25])\n",
    "plt.show()"
   ]
  },
  {
   "cell_type": "markdown",
   "metadata": {},
   "source": [
    "> - Outcome: highest churn to be found at the first month, a bump near the 1 year contract end, as well as a rise again near the 2 year contract term"
   ]
  },
  {
   "cell_type": "markdown",
   "metadata": {},
   "source": [
    "---\n",
    "---\n",
    "---\n",
    "---\n",
    "---\n",
    "---\n",
    "---\n",
    "---\n",
    "---\n",
    "---\n",
    "---\n",
    "---\n",
    "---\n",
    "---\n",
    "---\n",
    "---\n",
    "---\n",
    "---\n",
    "---\n",
    "---"
   ]
  },
  {
   "cell_type": "code",
   "execution_count": 10,
   "metadata": {},
   "outputs": [
    {
     "name": "stdout",
     "output_type": "stream",
     "text": [
      "0 <--- mode of survived in training data / baseline prediction\n",
      "73.47% <--- accuracy of baseline prediciton in training data\n"
     ]
    }
   ],
   "source": [
    "##find the baseline of churn based on mode\n",
    "baseline_predict = train_df[prediction_col].mode()[0]\n",
    "(train_df[prediction_col] == baseline_predict).mean()\n",
    "\n",
    "print(f\"{baseline_predict} <--- mode of survived in training data / baseline prediction\")\n",
    "print(f\"{(train_df[prediction_col] == baseline_predict).mean() * 100 :.2f}% <--- accuracy of baseline prediciton in training data\")\n"
   ]
  },
  {
   "cell_type": "markdown",
   "metadata": {},
   "source": [
    "### **73.47% baseline prediction accuracy on training data**"
   ]
  },
  {
   "cell_type": "markdown",
   "metadata": {},
   "source": [
    "-\n",
    "-\n",
    "-\n",
    "-\n",
    "-\n",
    "-\n",
    "-\n",
    "-\n",
    "-\n",
    "-"
   ]
  },
  {
   "cell_type": "markdown",
   "metadata": {},
   "source": [
    "we see there are a lot of categories, so we will go through and perform an independance test. we'll use pval to drop those with \"statistically significant\" likelyhood of dependance. \n",
    "\n",
    "we will be using relatively low pval due to wanting only the most independant features"
   ]
  },
  {
   "cell_type": "code",
   "execution_count": 11,
   "metadata": {},
   "outputs": [],
   "source": [
    "## in an attempt to reduce features i go through and remove categorical features that have low independance of Churn\n",
    "## to reduce further i remove the bottom 25% through evaluation of Chi^2 values\n",
    "\n",
    "cat_df = pd.DataFrame({\"col_name\":[],\"p_val\":[],\"chi2_val\":[]})\n",
    "for iter1 in cat_vars:\n",
    "    #if iter1 != \"churn\":\n",
    "        \n",
    "    var_x = train_df[iter1]\n",
    "    var_y = train_df.churn_encoded\n",
    "    data = train_df\n",
    "    #threshold_line = train_df.churn.mean()\n",
    "        \n",
    "    alpha = .05\n",
    "    df1 = pd.crosstab(var_x,var_y)\n",
    "    H0 = (f\"{var_x.name} is independant of being {var_y.name}\")\n",
    "    H1 = (f\"{var_x.name} is not independant of being {var_y.name}\")\n",
    "    chi2, p, degf, expected = stats.chi2_contingency(df1)\n",
    "    #if p>alpha:\n",
    "        #print(f\"{chi2}=chi2 | due to p={p:.5f} > α={alpha} we fail to reject ({H0})\")\n",
    "    #else:\n",
    "        #print(f\"{chi2}=chi2 | due to p = {p:.5f} < α = {alpha} we reject ({H0})\")\n",
    "    \n",
    "    #plt.title(f\"{var_y.name} relation {var_x.name}\")\n",
    "    #sns.barplot(x=var_x, y=var_y, data=df)\n",
    "    #plt.axhline(threshold_line, label=\"Threshold line\")\n",
    "    #plt.show()\n",
    "    \n",
    "    cat_df.loc[len(cat_df.index)] = [var_x.name,p,chi2]\n",
    "cat_dep_df = cat_df[cat_df[\"p_val\"] < .05]\n",
    "cat_dep_df.chi2_val.describe()\n",
    "\n",
    "cat_dep_df[\"chi_cat\"] = \\\n",
    "    np.where(cat_dep_df.chi2_val < cat_dep_df.chi2_val.quantile(.25),\"very low\",\n",
    "    np.where(cat_dep_df.chi2_val < cat_dep_df.chi2_val.quantile(.5),\"low\",\n",
    "    np.where(cat_dep_df.chi2_val < cat_dep_df.chi2_val.quantile(.75),\"high\",\n",
    "    np.where(cat_dep_df.chi2_val < cat_dep_df.chi2_val.quantile(.9),\"very high\",\n",
    "    \"extreme high\"))))\n",
    "cat_high_dep_df = cat_dep_df[cat_dep_df.chi2_val > cat_dep_df.chi2_val.quantile(.25)]\n",
    "cat_high_dep_df = cat_high_dep_df[cat_high_dep_df.col_name != \"churn_encoded\"]\n"
   ]
  },
  {
   "cell_type": "code",
   "execution_count": 12,
   "metadata": {},
   "outputs": [],
   "source": [
    "##setting the data sets based on features i want to include\n",
    "X_train = train_df[train_df.columns.intersection([ele for ele in cat_high_dep_df.col_name])]\n",
    "y_train = train_df[prediction_col]\n",
    "\n",
    "X_validate = validate_df[validate_df.columns.intersection([ele for ele in cat_high_dep_df.col_name])]\n",
    "y_validate = validate_df[prediction_col]\n",
    "\n",
    "X_test = test_df[test_df.columns.intersection([ele for ele in cat_high_dep_df.col_name])]\n",
    "y_test = test_df[prediction_col]"
   ]
  },
  {
   "cell_type": "code",
   "execution_count": 13,
   "metadata": {},
   "outputs": [
    {
     "data": {
      "image/png": "[encoded data removed]",
      "text/plain": [
       "<Figure size 1440x720 with 1 Axes>"
      ]
     },
     "metadata": {
      "needs_background": "light"
     },
     "output_type": "display_data"
    },
    {
     "name": "stdout",
     "output_type": "stream",
     "text": [
      "---------------\n",
      "      0    1\n",
      "0  2847  257\n",
      "1   620  501 << training confusion matrix\n",
      "---------------\n",
      "Accuracy of Decision Tree classifier on training set: 0.79\n",
      "---------------\n",
      "              precision    recall  f1-score   support\n",
      "\n",
      "           0       0.82      0.92      0.87      3104\n",
      "           1       0.66      0.45      0.53      1121\n",
      "\n",
      "    accuracy                           0.79      4225\n",
      "   macro avg       0.74      0.68      0.70      4225\n",
      "weighted avg       0.78      0.79      0.78      4225\n",
      " \t classification report on training set\n",
      "\n",
      "-----------------------\n",
      "\n",
      "     0    1\n",
      "0  951   84\n",
      "1  191  183 <<validate confusion matrix\n",
      "----------\n",
      "Accuracy of Decision Tree classifier on validate set: 0.80\n",
      "----------\n",
      "              precision    recall  f1-score   support\n",
      "\n",
      "           0       0.83      0.92      0.87      1035\n",
      "           1       0.69      0.49      0.57       374\n",
      "\n",
      "    accuracy                           0.80      1409\n",
      "   macro avg       0.76      0.70      0.72      1409\n",
      "weighted avg       0.79      0.80      0.79      1409\n",
      " \t classification report on validate set\n"
     ]
    }
   ],
   "source": [
    "## doing a basic decison tree classification, the number for depth was determined in previous class work i've done\n",
    "## fits the model, plots it, predicts off the training, and produces results (classification and confusion matrix)\n",
    "\n",
    "clf = DecisionTreeClassifier(max_depth= 4, random_state= 123, criterion=\"gini\")\n",
    "clf = clf.fit(X_train,y_train)\n",
    "\n",
    "plt.figure(figsize=(20,10))\n",
    "plot_tree(clf, feature_names=X_train.columns, class_names=str(clf.classes_), rounded=True)\n",
    "plt.show()\n",
    "\n",
    "y_pred_train_dt = clf.predict(X_train)\n",
    "y_pred_dt_proba = clf.predict_proba(X_train)\n",
    "#print(y_pred_dt_proba[0:5],\"decision tree\")\n",
    "\n",
    "labels = sorted(y_train.unique())\n",
    "TN3, FP3, FN3, TP3 = confusion_matrix(y_train,y_pred_train_dt).ravel()\n",
    "print(\"---------------\")\n",
    "print(pd.DataFrame(confusion_matrix(y_train,y_pred_train_dt), index=labels, columns=labels), \"<< training confusion matrix\")\n",
    "print(\"---------------\")\n",
    "print('Accuracy of Decision Tree classifier on training set: {:.2f}'.format(clf.score(X_train, y_train)))\n",
    "print(\"---------------\")\n",
    "print(classification_report(y_train,y_pred_train_dt), \"\\t classification report on training set\")\n",
    "print(\"\\n-----------------------\\n\")\n",
    "y_pred_val_dt = clf.predict(X_validate)\n",
    "print(pd.DataFrame(confusion_matrix(y_validate,y_pred_val_dt),index=labels,columns=labels),\"<<validate confusion matrix\")\n",
    "print(\"----------\")\n",
    "print('Accuracy of Decision Tree classifier on validate set: {:.2f}'.format(clf.score(X_validate, y_validate)))\n",
    "print(\"----------\")\n",
    "print(classification_report(y_validate, y_pred_val_dt), \"\\t classification report on validate set\")"
   ]
  },
  {
   "cell_type": "markdown",
   "metadata": {},
   "source": [
    "-\n",
    "-\n",
    "-\n",
    "-\n",
    "-\n",
    "-\n",
    "-\n",
    "-\n",
    "-\n",
    "-"
   ]
  },
  {
   "cell_type": "code",
   "execution_count": 14,
   "metadata": {},
   "outputs": [
    {
     "name": "stdout",
     "output_type": "stream",
     "text": [
      "[[2835  269]\n",
      " [ 545  576]] << training confusion matrix\n",
      "--------\n",
      "Accuracy of random forest classifier on training set: 0.81\n",
      "--------\n",
      "              precision    recall  f1-score   support\n",
      "\n",
      "           0       0.84      0.91      0.87      3104\n",
      "           1       0.68      0.51      0.59      1121\n",
      "\n",
      "    accuracy                           0.81      4225\n",
      "   macro avg       0.76      0.71      0.73      4225\n",
      "weighted avg       0.80      0.81      0.80      4225\n",
      " \t training classification report\n",
      "\n",
      "----------\n",
      "\n",
      "[[941  94]\n",
      " [180 194]] confusion matrix\n",
      "Accuracy of random forest classifier on validate set: 0.81\n",
      "----------\n",
      "              precision    recall  f1-score   support\n",
      "\n",
      "           0       0.84      0.91      0.87      1035\n",
      "           1       0.67      0.52      0.59       374\n",
      "\n",
      "    accuracy                           0.81      1409\n",
      "   macro avg       0.76      0.71      0.73      1409\n",
      "weighted avg       0.80      0.81      0.80      1409\n",
      " \t validate classification report\n"
     ]
    },
    {
     "data": {
      "image/png": "[encoded data removed]",
      "text/plain": [
       "<Figure size 432x288 with 1 Axes>"
      ]
     },
     "metadata": {
      "needs_background": "light"
     },
     "output_type": "display_data"
    },
    {
     "data": {
      "image/png": "[encoded data removed]",
      "text/plain": [
       "<Figure size 432x288 with 2 Axes>"
      ]
     },
     "metadata": {
      "needs_background": "light"
     },
     "output_type": "display_data"
    }
   ],
   "source": [
    "## random forest classifier, i played with the values until i settled on these\n",
    "## fits the data, predicts on the training, and runs classification and confusion reports\n",
    "## also plots the most weight of the top 10 features with a confusion matrix display below it\n",
    "\n",
    "rf = RandomForestClassifier(bootstrap=True,\n",
    "                         class_weight=None,\n",
    "                         criterion=\"gini\",\n",
    "                         min_samples_leaf=5,\n",
    "                         n_estimators=100,\n",
    "                         max_depth=7,\n",
    "                         random_state=123\n",
    "                         )\n",
    "rf.fit(X_train,y_train)\n",
    "\n",
    "y_pred_rf = rf.predict(X_train)\n",
    "y_pred_rf_proba = rf.predict_proba(X_train)\n",
    "\n",
    "pd.Series(rf.feature_importances_, index=X_train.columns).nlargest(10).plot(kind='barh')\n",
    "plt.title(\"weight of features/feature importance to Random Forest\")\n",
    "\n",
    "print(confusion_matrix(y_train, y_pred_rf), \"<< training confusion matrix\")\n",
    "TN, FP, FN, TP = confusion_matrix(y_train,y_pred_rf).ravel()\n",
    "print(\"--------\")\n",
    "print('Accuracy of random forest classifier on training set: {:.2f}'.format(rf.score(X_train, y_train)))\n",
    "print(\"--------\")\n",
    "print(classification_report(y_train, y_pred_rf),\"\\t training classification report\")\n",
    "print(\"\\n----------\\n\")\n",
    "y_pred_rf_val = rf.predict(X_validate)\n",
    "print(confusion_matrix(y_validate, y_pred_rf_val), \"confusion matrix\")\n",
    "print('Accuracy of random forest classifier on validate set: {:.2f}'.format(rf.score(X_validate, y_validate)))\n",
    "print(\"----------\")\n",
    "y_pred_rf_val = rf.predict(X_validate)\n",
    "print(classification_report(y_validate, y_pred_rf_val),\"\\t validate classification report\")\n",
    "\n",
    "disp = sklearn.metrics.ConfusionMatrixDisplay(confusion_matrix=confusion_matrix(y_validate, y_pred_rf_val), display_labels=rf.classes_)\n",
    "disp.plot()\n",
    "plt.show()"
   ]
  },
  {
   "cell_type": "markdown",
   "metadata": {},
   "source": [
    "-\n",
    "-\n",
    "-\n",
    "-\n",
    "-\n",
    "-\n",
    "-\n",
    "-\n",
    "-\n",
    "-"
   ]
  },
  {
   "cell_type": "code",
   "execution_count": 15,
   "metadata": {},
   "outputs": [
    {
     "name": "stdout",
     "output_type": "stream",
     "text": [
      "[[2792  312]\n",
      " [ 563  558]] << train confusion matrix\n",
      "----------\n",
      "Accuracy of Logistic Regression on training set: 0.79\n",
      "----------\n",
      "              precision    recall  f1-score   support\n",
      "\n",
      "           0       0.83      0.90      0.86      3104\n",
      "           1       0.64      0.50      0.56      1121\n",
      "\n",
      "    accuracy                           0.79      4225\n",
      "   macro avg       0.74      0.70      0.71      4225\n",
      "weighted avg       0.78      0.79      0.78      4225\n",
      " \t train classification\n",
      "\n",
      " ------------------------------ \n",
      "\n",
      "[[930 105]\n",
      " [169 205]] << validate confusion matrix\n",
      "----------\n",
      "Accuracy of Logistic Regression on validate set: 0.81\n",
      "----------\n",
      "              precision    recall  f1-score   support\n",
      "\n",
      "           0       0.85      0.90      0.87      1035\n",
      "           1       0.66      0.55      0.60       374\n",
      "\n",
      "    accuracy                           0.81      1409\n",
      "   macro avg       0.75      0.72      0.74      1409\n",
      "weighted avg       0.80      0.81      0.80      1409\n",
      " \t validate classification\n"
     ]
    }
   ],
   "source": [
    "## logistic regression classifier, played with values until i found some i liked\n",
    "## produces confusion and classification reports\n",
    "\n",
    "logreg = LogisticRegression(C=.1)#, class_weight={0:1, 1:99}, random_state=123, intercept_scaling=1, solver='lbfgs', max_iter=1000000000)\n",
    "logreg.fit(X_train,y_train)\n",
    "\n",
    "\n",
    "y_pred_train_array = logreg.predict(X_train)\n",
    "print(confusion_matrix(y_train, y_pred_train_array), \"<< train confusion matrix\")\n",
    "print(\"----------\")\n",
    "print('Accuracy of Logistic Regression on training set: {:.2f}'.format(logreg.score(X_train, y_train)))\n",
    "print(\"----------\")\n",
    "print(classification_report(y_train, y_pred_train_array),\"\\t train classification\")\n",
    "y_pred_logreg_val = logreg.predict(X_validate)\n",
    "print(\"\\n ------------------------------ \\n\")\n",
    "print(confusion_matrix(y_validate, y_pred_logreg_val),\"<< validate confusion matrix\")\n",
    "print(\"----------\")\n",
    "print('Accuracy of Logistic Regression on validate set: {:.2f}'.format(logreg.score(X_validate, y_validate)))\n",
    "print(\"----------\")\n",
    "print(classification_report(y_validate, y_pred_logreg_val),\"\\t validate classification\")"
   ]
  },
  {
   "cell_type": "markdown",
   "metadata": {},
   "source": [
    "-\n",
    "-\n",
    "-\n",
    "-\n",
    "-\n",
    "-\n",
    "-\n",
    "-\n",
    "-\n",
    "-"
   ]
  },
  {
   "cell_type": "markdown",
   "metadata": {},
   "source": [
    "## Opting to use RandomForest for the final test predictions"
   ]
  },
  {
   "cell_type": "code",
   "execution_count": 16,
   "metadata": {},
   "outputs": [
    {
     "name": "stdout",
     "output_type": "stream",
     "text": [
      "[[927 108]\n",
      " [168 206]] confusion matrix\n",
      "Accuracy of random forest classifier on test set: 0.80\n",
      "----------\n",
      "              precision    recall  f1-score   support\n",
      "\n",
      "           0       0.85      0.90      0.87      1035\n",
      "           1       0.66      0.55      0.60       374\n",
      "\n",
      "    accuracy                           0.80      1409\n",
      "   macro avg       0.75      0.72      0.73      1409\n",
      "weighted avg       0.80      0.80      0.80      1409\n",
      " \t test classification report\n"
     ]
    }
   ],
   "source": [
    "## running the test set using my randomforest classifier\n",
    "## produces confusion, classifification report as well as probabilities\n",
    "\n",
    "y_pred_rf_test = rf.predict(X_test)\n",
    "y_proba_rf_test = rf.predict_proba(X_test)\n",
    "print(confusion_matrix(y_test, y_pred_rf_test), \"confusion matrix\")\n",
    "print('Accuracy of random forest classifier on test set: {:.2f}'.format(rf.score(X_test, y_test)))\n",
    "print(\"----------\")\n",
    "print(classification_report(y_test, y_pred_rf_test),\"\\t test classification report\")\n"
   ]
  },
  {
   "cell_type": "markdown",
   "metadata": {},
   "source": [
    "The recall and precision are less than i would like to see"
   ]
  },
  {
   "cell_type": "code",
   "execution_count": 22,
   "metadata": {},
   "outputs": [
    {
     "data": {
      "text/html": [
       "<div>\n",
       "<style scoped>\n",
       "    .dataframe tbody tr th:only-of-type {\n",
       "        vertical-align: middle;\n",
       "    }\n",
       "\n",
       "    .dataframe tbody tr th {\n",
       "        vertical-align: top;\n",
       "    }\n",
       "\n",
       "    .dataframe thead th {\n",
       "        text-align: right;\n",
       "    }\n",
       "</style>\n",
       "<table border=\"1\" class=\"dataframe\">\n",
       "  <thead>\n",
       "    <tr style=\"text-align: right;\">\n",
       "      <th></th>\n",
       "      <th>0_proba</th>\n",
       "      <th>1_proba</th>\n",
       "      <th>prediction</th>\n",
       "      <th>customer_id</th>\n",
       "      <th>churn_encoded</th>\n",
       "    </tr>\n",
       "  </thead>\n",
       "  <tbody>\n",
       "    <tr>\n",
       "      <th>3160</th>\n",
       "      <td>0.8611</td>\n",
       "      <td>0.1389</td>\n",
       "      <td>0</td>\n",
       "      <td>4531-AUZNK</td>\n",
       "      <td>0</td>\n",
       "    </tr>\n",
       "    <tr>\n",
       "      <th>1577</th>\n",
       "      <td>0.959171</td>\n",
       "      <td>0.040829</td>\n",
       "      <td>0</td>\n",
       "      <td>2296-DKZFP</td>\n",
       "      <td>0</td>\n",
       "    </tr>\n",
       "    <tr>\n",
       "      <th>6823</th>\n",
       "      <td>0.526717</td>\n",
       "      <td>0.473283</td>\n",
       "      <td>0</td>\n",
       "      <td>9692-TUSXH</td>\n",
       "      <td>1</td>\n",
       "    </tr>\n",
       "    <tr>\n",
       "      <th>3615</th>\n",
       "      <td>0.574919</td>\n",
       "      <td>0.425081</td>\n",
       "      <td>0</td>\n",
       "      <td>5129-JLPIS</td>\n",
       "      <td>0</td>\n",
       "    </tr>\n",
       "    <tr>\n",
       "      <th>882</th>\n",
       "      <td>0.297611</td>\n",
       "      <td>0.702389</td>\n",
       "      <td>1</td>\n",
       "      <td>1273-MTETI</td>\n",
       "      <td>1</td>\n",
       "    </tr>\n",
       "    <tr>\n",
       "      <th>...</th>\n",
       "      <td>...</td>\n",
       "      <td>...</td>\n",
       "      <td>...</td>\n",
       "      <td>...</td>\n",
       "      <td>...</td>\n",
       "    </tr>\n",
       "    <tr>\n",
       "      <th>1097</th>\n",
       "      <td>0.589233</td>\n",
       "      <td>0.410767</td>\n",
       "      <td>0</td>\n",
       "      <td>1597-FZREH</td>\n",
       "      <td>1</td>\n",
       "    </tr>\n",
       "    <tr>\n",
       "      <th>6441</th>\n",
       "      <td>0.412703</td>\n",
       "      <td>0.587297</td>\n",
       "      <td>1</td>\n",
       "      <td>9117-SHLZX</td>\n",
       "      <td>1</td>\n",
       "    </tr>\n",
       "    <tr>\n",
       "      <th>5985</th>\n",
       "      <td>0.98419</td>\n",
       "      <td>0.01581</td>\n",
       "      <td>0</td>\n",
       "      <td>8441-SHIPE</td>\n",
       "      <td>0</td>\n",
       "    </tr>\n",
       "    <tr>\n",
       "      <th>2452</th>\n",
       "      <td>0.972722</td>\n",
       "      <td>0.027278</td>\n",
       "      <td>0</td>\n",
       "      <td>3511-BFTJW</td>\n",
       "      <td>0</td>\n",
       "    </tr>\n",
       "    <tr>\n",
       "      <th>983</th>\n",
       "      <td>0.39109</td>\n",
       "      <td>0.60891</td>\n",
       "      <td>1</td>\n",
       "      <td>1428-GTBJJ</td>\n",
       "      <td>1</td>\n",
       "    </tr>\n",
       "  </tbody>\n",
       "</table>\n",
       "<p>1409 rows × 5 columns</p>\n",
       "</div>"
      ],
      "text/plain": [
       "       0_proba   1_proba prediction customer_id churn_encoded\n",
       "3160    0.8611    0.1389          0  4531-AUZNK             0\n",
       "1577  0.959171  0.040829          0  2296-DKZFP             0\n",
       "6823  0.526717  0.473283          0  9692-TUSXH             1\n",
       "3615  0.574919  0.425081          0  5129-JLPIS             0\n",
       "882   0.297611  0.702389          1  1273-MTETI             1\n",
       "...        ...       ...        ...         ...           ...\n",
       "1097  0.589233  0.410767          0  1597-FZREH             1\n",
       "6441  0.412703  0.587297          1  9117-SHLZX             1\n",
       "5985   0.98419   0.01581          0  8441-SHIPE             0\n",
       "2452  0.972722  0.027278          0  3511-BFTJW             0\n",
       "983    0.39109   0.60891          1  1428-GTBJJ             1\n",
       "\n",
       "[1409 rows x 5 columns]"
      ]
     },
     "execution_count": 22,
     "metadata": {},
     "output_type": "execute_result"
    }
   ],
   "source": [
    "#i keep everything in X_test to retain the index for match with customer_id and churn value\n",
    "# removes the data that was not in it prior through tranposing and using tail, and pushes that out a csv\n",
    "\n",
    "X_test[\"0_proba\"] = pd.DataFrame(y_proba_rf_test,columns=[\"0_proba\",\"1_proba\"])[\"0_proba\"].values\n",
    "X_test[\"1_proba\"] = pd.DataFrame(y_proba_rf_test,columns=[\"0_proba\",\"1_proba\"])[\"1_proba\"].values\n",
    "X_test[\"prediction\"] = y_pred_rf_test\n",
    "X_test[\"customer_id\"],X_test[\"churn_encoded\"], = prepare_df.customer_id,prepare_df.churn_encoded\n",
    "X_test.T.tail(5).T.to_csv(\"predictions.csv\")\n",
    "X_test.T.tail(5).T"
   ]
  },
  {
   "cell_type": "markdown",
   "metadata": {},
   "source": [
    "# Churn-Telco Classification Project\n",
    "\n",
    "## Project Summary\n",
    "<hr style=\"border-top: 10px white; margin-top: 1px; margin-bottom: 1px\"></hr>\n",
    "\n",
    "#### Project Objectives\n",
    "> - Document code, process (data acquistion, preparation, exploratory data analysis and statistical testing, modeling, and model evaluation), findings, and key takeaways in a Jupyter Notebook report.\n",
    "> - Create modules (acquire.py, prepare.py) that make your process repeateable and your report (notebook) easier to read and follow.\n",
    "> - Ask exploratory questions of your data that will help you understand more about the attributes and drivers of customers churning. Answer questions through charts and statistical tests.\n",
    "> - Construct a model to predict customer churn using classification techniques.\n",
    "> - Refine your work into a Report, in the form of a jupyter notebook, that you will walk through in a 5 minute presentation to a group of collegues and managers about the work you did, why, goals, what you found, your methdologies, and your conclusions.\n",
    "> - ABe prepared to answer panel questions about your code, process, findings and key takeaways, and model.\n",
    "\n",
    "#### Business Goals\n",
    "> - Find drivers for customer churn at Telco. Why are customers churning?\n",
    "> - Construct a ML classification model that accurately predicts customer churn.\n",
    "> - Deliver a report that a non-data scientist can read through and understand what steps were taken, why and what was the outcome?\n",
    "\n",
    "#### Audience\n",
    "> - Your target audience for your notebook walkthrough is your direct manager and their manager. This should guide your language and level of explanations in your walkthrough.\n",
    "\n",
    "#### Project Deliverables\n",
    "> - This Readme.md\n",
    "> - A final report notebook  (.ipynb)\n",
    "> - Acquire & Prepare Modules (.py)\n",
    "> - Predictions (.csv)\n",
    "> - A final report notebook presentation\n",
    "\n",
    "#### Project Context\n",
    "> - The Telco dataset I'm using came from the Codeup database.\n",
    "\n",
    "#### Data Dictionary\n",
    "\n",
    "|Target                    |Datatype               |Definition|\n",
    "|:-------                  |:--------              |:----------|\n",
    "| churn                    | 7043 non-null: object | churn - yes, no |\n",
    "|                          |                       | \n",
    "| **Feature**              | **Datatype**          | **Definition** |\n",
    "| payment_type_id          |7043 non-null: int64   | payment type encoded |\n",
    "| internet_service_type_id |7043 non-null: int64   | internet service type encoded |\n",
    "| contract_type_id         |7043 non-null: int64   | contract type encoded |\n",
    "| customer_id              |7043 non-null: object  | unique key for customers |\n",
    "| gender                   |7043 non-null: object  | gender - M/F |\n",
    "| senior_citizen           |7043 non-null: int64   | senior citizen - hot encoded |\n",
    "| partner                  |7043 non-null: object  | partner - Y/N |\n",
    "| dependents               |7043 non-null: object  | dependents - Y/N |\n",
    "| tenure                   |7043 non-null: int64   | tenure - count by months |\n",
    "| phone_service            |7043 non-null: object  | phone_service - Y/N |\n",
    "| multiple_lines           |7043 non-null: object  | multiple_lines - Y/N |\n",
    "| online_security          |7043 non-null: object  | online_security - Y/N |\n",
    "| online_backup            |7043 non-null: object  | online_backup - Y/N |\n",
    "| device_protection        |7043 non-null: object  | device_protection - Y/N |\n",
    "| tech_support             |7043 non-null: object  | tech_support - Y/N |\n",
    "| streaming_tv             |7043 non-null: object  | streaming_tv - Y/N |\n",
    "| streaming_movies         |7043 non-null: object  | streaming_movies - Y/N |\n",
    "| paperless_billing        |7043 non-null: object  | paperless_billing - Y/N |\n",
    "| monthly_charges          |7043 non-null: float64 | monthly charge amount |\n",
    "| total_charges            |7043 non-null: object  | total charged to customer |\n",
    "| churn                    |7043 non-null: object  | churn - Y/N |\n",
    "| contract_type            |7043 non-null: object  | categorical, string for encoded |\n",
    "| internet_service_type    |7043 non-null: object  | categorical, string for encoded |\n",
    "| payment_type             |7043 non-null: object  | categorical, string for encoded |\n",
    "\n",
    "#### Initial Hypotheses\n",
    "\n",
    "> - **Hypothesis 1 -**\n",
    "> - alpha = .05\n",
    "> - $H_0$: Is churn independant of payment type. $\\mu_{churn}$ independent $\\mu_{payment type}$ (pval > alpha).  \n",
    "> - $H_a$: Rejection of Null $\\mu_{virginica}$ ~~independent~~  $\\mu_{versicolor}$ (pval <= alpha). \n",
    "> - Outcome: Sufficient evidence to reject our null hypothesis\n",
    "\n",
    "> - **Hypothesis 2 -** \n",
    "> - alpha = .025\n",
    "> - $H_0$: Is monthly payment greater for those who churned and than those who have not churn $\\mu_{monthly payment (churned)} > \\mu_{monthly payment (retained)}$.  \n",
    "> - $H_a$: Rejection of null $\\mu_{monthly payment (churned)} <= \\mu_{monthly payment (retained)}$. \n",
    "> - Outcome: Sufficent evidence to reject our null hypothesis\n",
    "\n",
    "> - **Question 3 -** \n",
    "> - Which service provided has the highest churn?\n",
    "> - Outcome: Movie Streaming (and TV streaming close second).\n",
    "\n",
    "> - **Question 4 -** \n",
    "> - When (in terms of tenure) are people most likely to churn?\n",
    "> - Outcome: Within the first 3 months, the first month being the highest.\n",
    "\n",
    "<hr style=\"border-top: 10px white; margin-top: 1px; margin-bottom: 1px\"></hr>\n",
    "\n",
    "### Executive Summary - Conclusions & Next Steps\n",
    "<hr style=\"border-top: 10px white; margin-top: 1px; margin-bottom: 1px\"></hr>\n",
    "\n",
    "> - I found that of the classification models I created, LogisticRegression, DecisionTree, and RandomForest predicted the likelyhood of Churn equally well.\n",
    "> - I chose my RandomForest model as my best model with an 80% accuracy rate for predicting my target value, Churn. This model outperformed my baseline score of 73% accuracy, so it has a little value.\n",
    "> - Some initial exploration and statistical testing revealed that engineering some new features around tenure, services, and internet type I might help my models predict with even more accuracy, and with more time, I would like to test this hypothesis.\n",
    "\n",
    "<hr style=\"border-top: 10px white; margin-top: 1px; margin-bottom: 1px\"></hr>\n",
    "\n",
    "### Pipeline Stages Breakdown\n",
    "\n",
    "<hr style=\"border-top: 10px white; margin-top: 1px; margin-bottom: 1px\"></hr>\n",
    "\n",
    "##### Plan\n",
    "- Create README.md with data dictionary, project and business goals, come up with initial hypotheses.\n",
    "- Acquire data from the Codeup Database and create a function to automate this process. Save the function in an acquire.py file to import into the Final Report Notebook.\n",
    "- Clean and prepare data for the first iteration through the pipeline, MVP preparation. Create a function to automate the process, store the function in a prepare.py module, and prepare data in Final Report Notebook by importing and using the funtion.\n",
    "- Ask four questions, two of which are to be statistical  and two are to be visualized with context provided.\n",
    "- Clearly define two hypotheses, set an alpha, run the statistical tests needed, reject or fail to reject the Null Hypothesis, and document findings and takeaways.\n",
    "- Establish a baseline accuracy and document well.\n",
    "- Train three different classification models.\n",
    "- Evaluate models on train and validate datasets.\n",
    "- Choose the model with that performs the best and evaluate that single model on the test dataset.\n",
    "- Create csv file with the customer id, the probability of the target values, and the model's prediction for churn for each observation in my test dataset.\n",
    "- Document conclusions, takeaways, and next steps in the Final Report Notebook.\n",
    "\n",
    "___\n",
    "\n",
    "##### Plan -> Acquire\n",
    "> - Store functions that are needed to acquire data from the measures and species tables from the telco database on the Codeup data science database server; make sure the acquire.py module contains the necessary imports to run my code.\n",
    "> - The final function will return a pandas DataFrame.\n",
    "> - Import the acquire function from the acquire.py module and use it to acquire the data in the Final Report Notebook.\n",
    "> - Complete some initial data summarization (`.info()`, `.describe()`, `.value_counts()`, ...).\n",
    "> - Plot distributions of individual variables.\n",
    "___\n",
    "\n",
    "##### Plan -> Acquire -> Prepare\n",
    "> - Store functions needed to prepare the telco data; make sure the module contains the necessary imports to run the code. The final function should do the following:\n",
    "    - Split the data into train/validate/test.\n",
    "    - Handle any missing values.\n",
    "    - Handle erroneous data and/or outliers that need addressing.\n",
    "    - Encode variables as needed.\n",
    "    - Create any new features, if made for this project.\n",
    "> - Import the prepare function from the prepare.py module and use it to prepare the data in the Final Report Notebook.\n",
    "___\n",
    "\n",
    "##### Plan -> Acquire -> Prepare -> Explore\n",
    "> - Answer key questions, my hypotheses, and figure out the features that can be used in a classification model to best predict the target variable, species. \n",
    "> - Run at least 2 statistical tests in data exploration. Document my hypotheses, set an alpha before running the tests, and document the findings well.\n",
    "> - Create visualizations and run statistical tests that work toward discovering variable relationships (independent with independent and independent with dependent). The goal is to identify features that are related to species (the target), identify any data integrity issues, and understand 'how the data works'. If there appears to be some sort of interaction or correlation, assume there is no causal relationship and brainstorm (and document) ideas on reasons there could be correlation.\n",
    "> - Summarize my conclusions, provide clear answers to my specific questions, and summarize any takeaways/action plan from the work above.\n",
    "___\n",
    "\n",
    "##### Plan -> Acquire -> Prepare -> Explore -> Model\n",
    "> - Establish a baseline accuracy to determine if having a model is better than no model and train and compare at least 3 different models. Document these steps well.\n",
    "> - Train (fit, transform, evaluate) multiple models, varying the algorithm and/or hyperparameters you use.\n",
    "> - Compare evaluation metrics across all the models you train and select the ones you want to evaluate using your validate dataframe.\n",
    "> - Feature Selection (after initial iteration through pipeline): Are there any variables that seem to provide limited to no additional information? If so, remove them.\n",
    "> - Based on the evaluation of the models using the train and validate datasets, choose the best model to try with the test data, once.\n",
    "> - Test the final model on the out-of-sample data (the testing dataset), summarize the performance, interpret and document the results.\n",
    "___\n",
    "\n",
    "##### Plan -> Acquire -> Prepare -> Explore -> Model -> Deliver\n",
    "> - Introduce myself and my project goals at the very beginning of my notebook walkthrough.\n",
    "> - Summarize my findings at the beginning like I would for an Executive Summary. (Don't throw everything out that I learned from Storytelling) .\n",
    "> - Walk Codeup Data Science Team through the analysis I did to answer my questions and that lead to my findings. (Visualize relationships and Document takeaways.) \n",
    "> - Clearly call out the questions and answers I am analyzing as well as offer insights and recommendations based on my findings.\n",
    "\n",
    "<hr style=\"border-top: 10px white; margin-top: 1px; margin-bottom: 1px\"></hr>\n",
    "\n",
    "### Reproduce My Project\n",
    "\n",
    "<hr style=\"border-top: 10px white; margin-top: 1px; margin-bottom: 1px\"></hr>\n",
    "\n",
    "You will need your own env file with database credentials along with all the necessary files listed below to run my final project notebook. \n",
    "- Read this README.md\n",
    "- Download the aquire.py, prepare.py, and final_report.ipynb files into your working directory\n",
    "- Add your own env file to your directory. (user, password, host)\n",
    "- Run the final_report.ipynb notebook"
   ]
  },
  {
   "cell_type": "markdown",
   "metadata": {},
   "source": []
  }
 ],
 "metadata": {
  "kernelspec": {
   "display_name": "Python 3.9.12 ('base')",
   "language": "python",
   "name": "python3"
  },
  "language_info": {
   "codemirror_mode": {
    "name": "ipython",
    "version": 3
   },
   "file_extension": ".py",
   "mimetype": "text/x-python",
   "name": "python",
   "nbconvert_exporter": "python",
   "pygments_lexer": "ipython3",
   "version": "3.9.12"
  },
  "orig_nbformat": 4,
  "vscode": {
   "interpreter": {
    "hash": "3067ead486e059ec00ffe7555bdb889e6e264a24dc711bf108106cc7baee8d5d"
   }
  }
 },
 "nbformat": 4,
 "nbformat_minor": 2
}
